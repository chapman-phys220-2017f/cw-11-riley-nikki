{
 "cells": [
  {
   "cell_type": "markdown",
   "metadata": {
    "collapsed": false
   },
   "source": [
    "# CW11 - Solution Method Explanations"
   ]
  },
  {
   "cell_type": "markdown",
   "metadata": {
    "collapsed": false
   },
   "source": [
    "Riley Kendall and Nikki Schwartz\n",
    "\n",
    "November 21, 2017"
   ]
  },
  {
   "cell_type": "markdown",
   "metadata": {
    "collapsed": false
   },
   "source": [
    "#### Euler's Method"
   ]
  },
  {
   "cell_type": "markdown",
   "metadata": {
    "collapsed": false
   },
   "source": [
    "Euler’s method for solving a differential equation works by starting at an initial point and then calculating the slope at that point.  To calculate the slope, one uses the differential equation.  Starting at the point, one uses the calculated slope to jump to the approximate height of the next point.  The jump follows the rule “rise over run”, where the rise is the change in y values and the run is change in x, which in this equation is represented by ∆t.  The same process is repeated for the next point and continued.  "
   ]
  },
  {
   "cell_type": "markdown",
   "metadata": {
    "collapsed": false
   },
   "source": [
    "#### The Leapfrog Method"
   ]
  },
  {
   "cell_type": "markdown",
   "metadata": {
    "collapsed": false
   },
   "source": [
    "The Leapfrog method, or Midpoint method, is similar to Euler’s method.  However, in the Leapfrog method, one needs to know the y-values of two points to get the y-value of the third point.  The y-value of the first point is the starting height, and the y-value of the second point is used to find the slope at that point.  Using that first y-value and slope of the second point, one uses the “rise over run” rule to “leap” over the middle point and get the y-value of the third point, over a 2x change in distance.  "
   ]
  },
  {
   "cell_type": "markdown",
   "metadata": {
    "collapsed": false
   },
   "source": [
    "#### Heun's Method"
   ]
  },
  {
   "cell_type": "markdown",
   "metadata": {
    "collapsed": false
   },
   "source": [
    "Heun’s method for solving a differential equation is a fancier, more accurate version of Euler’s method.  The first step is to use Euler’s method to find an approximate value of the height of the second point.  The second step uses the height of the initial point.  One calculates the slopes at these two points using the differential equation.  Given those two slopes, one averages the slopes and multiplies that answer by the change in length.  By adding this answer to the previous y-value, one gets the y-value of the next point.  The first equation in Heun's method is finding the height of the second point, and the second equation is averaging the slopes of the two points.  "
   ]
  },
  {
   "cell_type": "markdown",
   "metadata": {
    "collapsed": false
   },
   "source": [
    "#### 2nd Order Runge-Kutta Method"
   ]
  },
  {
   "cell_type": "markdown",
   "metadata": {
    "collapsed": false
   },
   "source": [
    "2nd Order Runge-Kutta method starts with an initial point and the slope at that point.  That value of that slope is K1.  K1 is used to estimate the height of the midpoint between the first and second point.   Then, one finds the slope of the midpoint using the differential equation.  That slope value, using the rise-over-run rule, is used to determine the height that should be added to the initial point, resulting in the y-value of the second point.  This method differs from Heun's method in that it uses the midpoint slope to gain a better estimation of the second point's height."
   ]
  },
  {
   "cell_type": "markdown",
   "metadata": {
    "collapsed": false
   },
   "source": [
    "#### 4th Order Runge-Kutta Method"
   ]
  },
  {
   "cell_type": "markdown",
   "metadata": {
    "collapsed": false
   },
   "source": [
    "4th Order Runge-Kutta method starts with an initial point and the slope at that point.  That value of that slope is K1.  K1 is used to estimate the height of the midpoint between the first and second point, and then one can estimate the slope of the midpoint too.  That second slope, K2, is used to estimate the height and slope of the midpoint another time, getting K3. And that slope value is then used to determine the fourth estimate of the slope.  Finally, all four of these slopes are used to determine the weighted average, producing the y-value of the next point.  I think that the middle increments are more heavily weighted because K2 involves K1/2 and K3 involves K2/2, and since these values are divided by two they are multiplied by two in the weighted average.  "
   ]
  }
 ],
 "metadata": {
  "kernelspec": {
   "display_name": "Python 3 (Anaconda)",
   "language": "python",
   "name": "anaconda3"
  },
  "language_info": {
   "codemirror_mode": {
    "name": "ipython",
    "version": 3
   },
   "file_extension": ".py",
   "mimetype": "text/x-python",
   "name": "python",
   "nbconvert_exporter": "python",
   "pygments_lexer": "ipython3",
   "version": "3.5.4"
  }
 },
 "nbformat": 4,
 "nbformat_minor": 0
}